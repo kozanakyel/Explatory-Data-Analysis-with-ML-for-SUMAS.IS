{
 "cells": [
  {
   "cell_type": "code",
   "execution_count": 1,
   "metadata": {},
   "outputs": [],
   "source": [
    "import yfinance as yf\n",
    "import numpy as np\n",
    "import pandas as pd\n",
    "from matplotlib.pyplot import plot as plt\n",
    "from keras.models import Sequential\n",
    "from keras.layers import Dense, LSTM, Dropout"
   ]
  },
  {
   "cell_type": "code",
   "execution_count": 2,
   "metadata": {},
   "outputs": [],
   "source": [
    "output_size = 60\n",
    "epochs = 700\n",
    "features = 3"
   ]
  },
  {
   "cell_type": "code",
   "execution_count": 3,
   "metadata": {},
   "outputs": [],
   "source": [
    "def get_data(y):\n",
    "    train_size = int(len(y)*0.7)\n",
    "\n",
    "    train = y[0:train_size]\n",
    "    test = y[train_size:len(y)]\n",
    "    print(f'Shape : {train.shape}')\n",
    "\n",
    "    train_x = []\n",
    "    train_y = []\n",
    "    for i in range(0, train_size - features - output_size):\n",
    "        tmp_x = y[i:(i+features)]\n",
    "        tmp_y = y[(i+features):(i+features+output_size)]\n",
    "        train_x.append(np.reshape(tmp_x, (1, features)))\n",
    "        train_y.append(tmp_y)\n",
    "\n",
    "    train_x = np.array(train_x)\n",
    "    train_y = np.array(train_y)\n",
    "\n",
    "    ########### TEST DATA ########################\n",
    "    test_x = []\n",
    "    test_y = []\n",
    "    last = len(y) - output_size - features\n",
    "    for i in range(train_size, last):\n",
    "        tmp_x = y[i:(i+features)]\n",
    "        tmp_y = y[(i + features):(i + features + output_size)]\n",
    "        test_x.append(np.reshape(tmp_x, (1, features)))\n",
    "        test_y.append(tmp_y)\n",
    "\n",
    "    test_x = np.array(test_x)\n",
    "    test_y = np.array(test_y)\n",
    "\n",
    "    ######## Tahmin edilecek data #######################\n",
    "    data_x = []\n",
    "    tmp_x = y[-features:len(y)]\n",
    "    data_x.append(np.reshape(tmp_x, (1, features)))\n",
    "    data_x = np.array(data_x)\n",
    "\n",
    "    return train_x, train_y, test_x, test_y, data_x "
   ]
  },
  {
   "cell_type": "code",
   "execution_count": 4,
   "metadata": {},
   "outputs": [
    {
     "name": "stdout",
     "output_type": "stream",
     "text": [
      "[*********************100%***********************]  1 of 1 completed\n"
     ]
    },
    {
     "data": {
      "text/html": [
       "<div>\n",
       "<style scoped>\n",
       "    .dataframe tbody tr th:only-of-type {\n",
       "        vertical-align: middle;\n",
       "    }\n",
       "\n",
       "    .dataframe tbody tr th {\n",
       "        vertical-align: top;\n",
       "    }\n",
       "\n",
       "    .dataframe thead th {\n",
       "        text-align: right;\n",
       "    }\n",
       "</style>\n",
       "<table border=\"1\" class=\"dataframe\">\n",
       "  <thead>\n",
       "    <tr style=\"text-align: right;\">\n",
       "      <th></th>\n",
       "      <th>Open</th>\n",
       "      <th>High</th>\n",
       "      <th>Low</th>\n",
       "      <th>Close</th>\n",
       "      <th>Adj Close</th>\n",
       "      <th>Volume</th>\n",
       "    </tr>\n",
       "    <tr>\n",
       "      <th>Datetime</th>\n",
       "      <th></th>\n",
       "      <th></th>\n",
       "      <th></th>\n",
       "      <th></th>\n",
       "      <th></th>\n",
       "      <th></th>\n",
       "    </tr>\n",
       "  </thead>\n",
       "  <tbody>\n",
       "    <tr>\n",
       "      <th>2022-09-22 22:48:00+00:00</th>\n",
       "      <td>19401.714844</td>\n",
       "      <td>19401.714844</td>\n",
       "      <td>19401.714844</td>\n",
       "      <td>19401.714844</td>\n",
       "      <td>19401.714844</td>\n",
       "      <td>4325376</td>\n",
       "    </tr>\n",
       "    <tr>\n",
       "      <th>2022-09-22 22:49:00+00:00</th>\n",
       "      <td>19440.226562</td>\n",
       "      <td>19440.226562</td>\n",
       "      <td>19440.226562</td>\n",
       "      <td>19440.226562</td>\n",
       "      <td>19440.226562</td>\n",
       "      <td>17776640</td>\n",
       "    </tr>\n",
       "  </tbody>\n",
       "</table>\n",
       "</div>"
      ],
      "text/plain": [
       "                                   Open          High           Low  \\\n",
       "Datetime                                                              \n",
       "2022-09-22 22:48:00+00:00  19401.714844  19401.714844  19401.714844   \n",
       "2022-09-22 22:49:00+00:00  19440.226562  19440.226562  19440.226562   \n",
       "\n",
       "                                  Close     Adj Close    Volume  \n",
       "Datetime                                                         \n",
       "2022-09-22 22:48:00+00:00  19401.714844  19401.714844   4325376  \n",
       "2022-09-22 22:49:00+00:00  19440.226562  19440.226562  17776640  "
      ]
     },
     "execution_count": 4,
     "metadata": {},
     "output_type": "execute_result"
    }
   ],
   "source": [
    "period = '1d'\n",
    "interval = '1'\n",
    "df_btc = yf.download('BTC-USD', period='1d', interval= interval + 'm')\n",
    "df_btc.drop(df_btc.tail(1).index,inplace=True)\n",
    "df_btc.index = df_btc.index + pd.Timedelta(minutes=(180))\n",
    "df_btc.tail(2)"
   ]
  },
  {
   "cell_type": "code",
   "execution_count": 5,
   "metadata": {},
   "outputs": [
    {
     "data": {
      "text/html": [
       "<div>\n",
       "<style scoped>\n",
       "    .dataframe tbody tr th:only-of-type {\n",
       "        vertical-align: middle;\n",
       "    }\n",
       "\n",
       "    .dataframe tbody tr th {\n",
       "        vertical-align: top;\n",
       "    }\n",
       "\n",
       "    .dataframe thead th {\n",
       "        text-align: right;\n",
       "    }\n",
       "</style>\n",
       "<table border=\"1\" class=\"dataframe\">\n",
       "  <thead>\n",
       "    <tr style=\"text-align: right;\">\n",
       "      <th></th>\n",
       "      <th>Open</th>\n",
       "      <th>High</th>\n",
       "      <th>Low</th>\n",
       "      <th>Close</th>\n",
       "      <th>Adj Close</th>\n",
       "      <th>Volume</th>\n",
       "    </tr>\n",
       "    <tr>\n",
       "      <th>Datetime</th>\n",
       "      <th></th>\n",
       "      <th></th>\n",
       "      <th></th>\n",
       "      <th></th>\n",
       "      <th></th>\n",
       "      <th></th>\n",
       "    </tr>\n",
       "  </thead>\n",
       "  <tbody>\n",
       "    <tr>\n",
       "      <th>2022-09-22 03:00:00+00:00</th>\n",
       "      <td>18534.650391</td>\n",
       "      <td>18534.650391</td>\n",
       "      <td>18534.650391</td>\n",
       "      <td>18534.650391</td>\n",
       "      <td>18534.650391</td>\n",
       "      <td>0</td>\n",
       "    </tr>\n",
       "    <tr>\n",
       "      <th>2022-09-22 03:01:00+00:00</th>\n",
       "      <td>18497.251953</td>\n",
       "      <td>18497.251953</td>\n",
       "      <td>18497.251953</td>\n",
       "      <td>18497.251953</td>\n",
       "      <td>18497.251953</td>\n",
       "      <td>0</td>\n",
       "    </tr>\n",
       "  </tbody>\n",
       "</table>\n",
       "</div>"
      ],
      "text/plain": [
       "                                   Open          High           Low  \\\n",
       "Datetime                                                              \n",
       "2022-09-22 03:00:00+00:00  18534.650391  18534.650391  18534.650391   \n",
       "2022-09-22 03:01:00+00:00  18497.251953  18497.251953  18497.251953   \n",
       "\n",
       "                                  Close     Adj Close  Volume  \n",
       "Datetime                                                       \n",
       "2022-09-22 03:00:00+00:00  18534.650391  18534.650391       0  \n",
       "2022-09-22 03:01:00+00:00  18497.251953  18497.251953       0  "
      ]
     },
     "execution_count": 5,
     "metadata": {},
     "output_type": "execute_result"
    }
   ],
   "source": [
    "df_btc.head(2)"
   ]
  },
  {
   "cell_type": "code",
   "execution_count": 6,
   "metadata": {},
   "outputs": [],
   "source": [
    "#raw_data = pd.read_csv('./datasets/ue128.csv', header=None, names=[\"i\", \"t\", \"y\"])\n",
    "t = np.array(df_btc.index.values)\n",
    "y = np.array(df_btc.Close.values)"
   ]
  },
  {
   "cell_type": "code",
   "execution_count": 7,
   "metadata": {},
   "outputs": [],
   "source": [
    "min = y.min()\n",
    "max = y.max()"
   ]
  },
  {
   "cell_type": "code",
   "execution_count": 8,
   "metadata": {},
   "outputs": [],
   "source": [
    "y = np.interp(y, (min, max), (-1, +1))"
   ]
  },
  {
   "cell_type": "code",
   "execution_count": 9,
   "metadata": {},
   "outputs": [
    {
     "name": "stdout",
     "output_type": "stream",
     "text": [
      "Shape : (752,)\n"
     ]
    }
   ],
   "source": [
    "x_train, y_train, x_test, y_test, data_x = get_data(y)"
   ]
  },
  {
   "cell_type": "code",
   "execution_count": 10,
   "metadata": {},
   "outputs": [
    {
     "name": "stderr",
     "output_type": "stream",
     "text": [
      "2022-09-22 22:54:45.508975: I tensorflow/stream_executor/cuda/cuda_gpu_executor.cc:961] could not open file to read NUMA node: /sys/bus/pci/devices/0000:01:00.0/numa_node\n",
      "Your kernel may have been built without NUMA support.\n",
      "2022-09-22 22:54:45.572035: I tensorflow/stream_executor/cuda/cuda_gpu_executor.cc:961] could not open file to read NUMA node: /sys/bus/pci/devices/0000:01:00.0/numa_node\n",
      "Your kernel may have been built without NUMA support.\n",
      "2022-09-22 22:54:45.572079: I tensorflow/stream_executor/cuda/cuda_gpu_executor.cc:961] could not open file to read NUMA node: /sys/bus/pci/devices/0000:01:00.0/numa_node\n",
      "Your kernel may have been built without NUMA support.\n",
      "2022-09-22 22:54:45.572956: I tensorflow/core/platform/cpu_feature_guard.cc:193] This TensorFlow binary is optimized with oneAPI Deep Neural Network Library (oneDNN) to use the following CPU instructions in performance-critical operations:  AVX2 FMA\n",
      "To enable them in other operations, rebuild TensorFlow with the appropriate compiler flags.\n",
      "2022-09-22 22:54:45.576980: I tensorflow/stream_executor/cuda/cuda_gpu_executor.cc:961] could not open file to read NUMA node: /sys/bus/pci/devices/0000:01:00.0/numa_node\n",
      "Your kernel may have been built without NUMA support.\n",
      "2022-09-22 22:54:45.577141: I tensorflow/stream_executor/cuda/cuda_gpu_executor.cc:961] could not open file to read NUMA node: /sys/bus/pci/devices/0000:01:00.0/numa_node\n",
      "Your kernel may have been built without NUMA support.\n",
      "2022-09-22 22:54:45.577175: I tensorflow/stream_executor/cuda/cuda_gpu_executor.cc:961] could not open file to read NUMA node: /sys/bus/pci/devices/0000:01:00.0/numa_node\n",
      "Your kernel may have been built without NUMA support.\n",
      "2022-09-22 22:54:46.618343: I tensorflow/stream_executor/cuda/cuda_gpu_executor.cc:961] could not open file to read NUMA node: /sys/bus/pci/devices/0000:01:00.0/numa_node\n",
      "Your kernel may have been built without NUMA support.\n",
      "2022-09-22 22:54:46.618494: I tensorflow/stream_executor/cuda/cuda_gpu_executor.cc:961] could not open file to read NUMA node: /sys/bus/pci/devices/0000:01:00.0/numa_node\n",
      "Your kernel may have been built without NUMA support.\n",
      "2022-09-22 22:54:46.618506: I tensorflow/core/common_runtime/gpu/gpu_device.cc:1616] Could not identify NUMA node of platform GPU id 0, defaulting to 0.  Your kernel may not have been built with NUMA support.\n",
      "2022-09-22 22:54:46.618542: I tensorflow/stream_executor/cuda/cuda_gpu_executor.cc:961] could not open file to read NUMA node: /sys/bus/pci/devices/0000:01:00.0/numa_node\n",
      "Your kernel may have been built without NUMA support.\n",
      "2022-09-22 22:54:46.618686: I tensorflow/core/common_runtime/gpu/gpu_device.cc:1532] Created device /job:localhost/replica:0/task:0/device:GPU:0 with 3943 MB memory:  -> device: 0, name: NVIDIA GeForce GTX 1660 Ti, pci bus id: 0000:01:00.0, compute capability: 7.5\n"
     ]
    }
   ],
   "source": [
    "model = Sequential()\n",
    "model.add(LSTM(100, input_shape=(1, features), return_sequences=True))\n",
    "model.add(Dropout(0.25))\n",
    "model.add(LSTM(80))\n",
    "model.add(Dense(output_size))"
   ]
  },
  {
   "cell_type": "code",
   "execution_count": 11,
   "metadata": {},
   "outputs": [
    {
     "name": "stderr",
     "output_type": "stream",
     "text": [
      "2022-09-22 22:54:50.773145: I tensorflow/stream_executor/cuda/cuda_dnn.cc:384] Loaded cuDNN version 8401\n"
     ]
    },
    {
     "data": {
      "text/plain": [
       "<keras.callbacks.History at 0x7f6d43fdcd90>"
      ]
     },
     "execution_count": 11,
     "metadata": {},
     "output_type": "execute_result"
    }
   ],
   "source": [
    "model.compile(loss='mse', optimizer='rmsprop', metrics=['accuracy'])\n",
    "model.fit(x_train, y_train, epochs=epochs, verbose=0)"
   ]
  },
  {
   "cell_type": "code",
   "execution_count": 12,
   "metadata": {},
   "outputs": [
    {
     "name": "stdout",
     "output_type": "stream",
     "text": [
      "9/9 [==============================] - 1s 6ms/step - loss: 0.1101 - accuracy: 0.0231\n",
      "accuracy: 2.31%\n",
      "Model: \"sequential\"\n",
      "_________________________________________________________________\n",
      " Layer (type)                Output Shape              Param #   \n",
      "=================================================================\n",
      " lstm (LSTM)                 (None, 1, 100)            41600     \n",
      "                                                                 \n",
      " dropout (Dropout)           (None, 1, 100)            0         \n",
      "                                                                 \n",
      " lstm_1 (LSTM)               (None, 80)                57920     \n",
      "                                                                 \n",
      " dense (Dense)               (None, 60)                4860      \n",
      "                                                                 \n",
      "=================================================================\n",
      "Total params: 104,380\n",
      "Trainable params: 104,380\n",
      "Non-trainable params: 0\n",
      "_________________________________________________________________\n"
     ]
    }
   ],
   "source": [
    "score = model.evaluate(x_test, y_test)\n",
    "print(\"%2s: %.2f%%\" % (model.metrics_names[1], score[1]*100))\n",
    "model.summary()"
   ]
  },
  {
   "cell_type": "code",
   "execution_count": 13,
   "metadata": {},
   "outputs": [
    {
     "name": "stdout",
     "output_type": "stream",
     "text": [
      "1/1 [==============================] - 0s 482ms/step\n"
     ]
    }
   ],
   "source": [
    "data_y = model.predict(data_x)"
   ]
  },
  {
   "cell_type": "code",
   "execution_count": 14,
   "metadata": {},
   "outputs": [],
   "source": [
    "result = np.interp(data_y, (-1, +1), (min, max))"
   ]
  },
  {
   "cell_type": "code",
   "execution_count": 17,
   "metadata": {},
   "outputs": [
    {
     "name": "stdout",
     "output_type": "stream",
     "text": [
      "Zaman 2022-09-22 22:49:00+00:00 19287.410090283258\n",
      "Zaman 2022-09-22 22:50:00+00:00 19275.840361751732\n",
      "Zaman 2022-09-22 22:51:00+00:00 19247.44386374962\n",
      "Zaman 2022-09-22 22:52:00+00:00 19254.669806316437\n",
      "Zaman 2022-09-22 22:53:00+00:00 19259.760148525937\n",
      "Zaman 2022-09-22 22:54:00+00:00 19237.44584864739\n",
      "Zaman 2022-09-22 22:55:00+00:00 19243.194679848326\n",
      "Zaman 2022-09-22 22:56:00+00:00 19233.698776343488\n",
      "Zaman 2022-09-22 22:57:00+00:00 19228.27054781001\n",
      "Zaman 2022-09-22 22:58:00+00:00 19212.678704758582\n",
      "Zaman 2022-09-22 22:59:00+00:00 19256.410020128533\n",
      "Zaman 2022-09-22 23:00:00+00:00 19220.341991015594\n",
      "Zaman 2022-09-22 23:01:00+00:00 19249.627589624026\n",
      "Zaman 2022-09-22 23:02:00+00:00 19230.059986453038\n",
      "Zaman 2022-09-22 23:03:00+00:00 19256.018175816804\n",
      "Zaman 2022-09-22 23:04:00+00:00 19246.109754792706\n",
      "Zaman 2022-09-22 23:05:00+00:00 19243.3146272031\n",
      "Zaman 2022-09-22 23:06:00+00:00 19224.670172831044\n",
      "Zaman 2022-09-22 23:07:00+00:00 19225.387719405\n",
      "Zaman 2022-09-22 23:08:00+00:00 19256.01380909793\n",
      "Zaman 2022-09-22 23:09:00+00:00 19251.046742721228\n",
      "Zaman 2022-09-22 23:10:00+00:00 19262.787200799736\n",
      "Zaman 2022-09-22 23:11:00+00:00 19259.47322761314\n",
      "Zaman 2022-09-22 23:12:00+00:00 19275.47138927522\n",
      "Zaman 2022-09-22 23:13:00+00:00 19278.312749119184\n",
      "Zaman 2022-09-22 23:14:00+00:00 19247.538252057566\n",
      "Zaman 2022-09-22 23:15:00+00:00 19253.514977125276\n",
      "Zaman 2022-09-22 23:16:00+00:00 19235.523881613393\n",
      "Zaman 2022-09-22 23:17:00+00:00 19269.90989947488\n",
      "Zaman 2022-09-22 23:18:00+00:00 19243.420985817327\n",
      "Zaman 2022-09-22 23:19:00+00:00 19233.08575619402\n",
      "Zaman 2022-09-22 23:20:00+00:00 19225.766066585667\n",
      "Zaman 2022-09-22 23:21:00+00:00 19253.630771516648\n",
      "Zaman 2022-09-22 23:22:00+00:00 19243.690073416685\n",
      "Zaman 2022-09-22 23:23:00+00:00 19232.13454435562\n",
      "Zaman 2022-09-22 23:24:00+00:00 19269.91197595658\n",
      "Zaman 2022-09-22 23:25:00+00:00 19238.937128947233\n",
      "Zaman 2022-09-22 23:26:00+00:00 19234.17200041603\n",
      "Zaman 2022-09-22 23:27:00+00:00 19216.594613346737\n",
      "Zaman 2022-09-22 23:28:00+00:00 19216.83310337749\n",
      "Zaman 2022-09-22 23:29:00+00:00 19202.385829254694\n",
      "Zaman 2022-09-22 23:30:00+00:00 19208.754887218063\n",
      "Zaman 2022-09-22 23:31:00+00:00 19184.60671809537\n",
      "Zaman 2022-09-22 23:32:00+00:00 19174.674570214178\n",
      "Zaman 2022-09-22 23:33:00+00:00 19159.073841042526\n",
      "Zaman 2022-09-22 23:34:00+00:00 19148.792111359537\n",
      "Zaman 2022-09-22 23:35:00+00:00 19135.898091354436\n",
      "Zaman 2022-09-22 23:36:00+00:00 19144.092850049376\n",
      "Zaman 2022-09-22 23:37:00+00:00 19076.391683422873\n",
      "Zaman 2022-09-22 23:38:00+00:00 19105.40004118762\n",
      "Zaman 2022-09-22 23:39:00+00:00 19108.350233101955\n",
      "Zaman 2022-09-22 23:40:00+00:00 19081.151651286316\n",
      "Zaman 2022-09-22 23:41:00+00:00 19080.530935939954\n",
      "Zaman 2022-09-22 23:42:00+00:00 19067.067379755143\n",
      "Zaman 2022-09-22 23:43:00+00:00 19085.600986648118\n",
      "Zaman 2022-09-22 23:44:00+00:00 19042.83416649216\n",
      "Zaman 2022-09-22 23:45:00+00:00 19089.839070533257\n",
      "Zaman 2022-09-22 23:46:00+00:00 19077.131979686063\n",
      "Zaman 2022-09-22 23:47:00+00:00 19075.73420213579\n",
      "Zaman 2022-09-22 23:48:00+00:00 19091.386156278837\n"
     ]
    }
   ],
   "source": [
    "df_test = pd.DataFrame()\n",
    "for i in range(output_size):\n",
    "    time_result = df_btc.index[-1] + pd.Timedelta(minutes=(i*int(interval)))\n",
    "    print(f\"Zaman {time_result}\", result[0,i])"
   ]
  },
  {
   "cell_type": "code",
   "execution_count": null,
   "metadata": {},
   "outputs": [],
   "source": []
  }
 ],
 "metadata": {
  "kernelspec": {
   "display_name": "Python 3.10.4 ('tf_stock')",
   "language": "python",
   "name": "python3"
  },
  "language_info": {
   "codemirror_mode": {
    "name": "ipython",
    "version": 3
   },
   "file_extension": ".py",
   "mimetype": "text/x-python",
   "name": "python",
   "nbconvert_exporter": "python",
   "pygments_lexer": "ipython3",
   "version": "3.10.4"
  },
  "orig_nbformat": 4,
  "vscode": {
   "interpreter": {
    "hash": "8f97d5ab6e8b52c467319575a5af3fdb82615b87f2656e3584477e6e258fa7b9"
   }
  }
 },
 "nbformat": 4,
 "nbformat_minor": 2
}
